{
  "metadata": {
    "kernelspec": {
      "language": "python",
      "display_name": "Python 3",
      "name": "python3"
    },
    "language_info": {
      "name": "python",
      "version": "3.7.12",
      "mimetype": "text/x-python",
      "codemirror_mode": {
        "name": "ipython",
        "version": 3
      },
      "pygments_lexer": "ipython3",
      "nbconvert_exporter": "python",
      "file_extension": ".py"
    },
    "colab": {
      "name": "fontsize_pipline_1.ipynb",
      "provenance": [],
      "collapsed_sections": []
    }
  },
  "nbformat_minor": 0,
  "nbformat": 4,
  "cells": [
    {
      "cell_type": "markdown",
      "source": [
        "CNN-Image classify"
      ],
      "metadata": {
        "id": "ivjUKa-RrtD2"
      }
    },
    {
      "cell_type": "code",
      "source": [
        "import tensorflow as tf"
      ],
      "metadata": {
        "id": "uRdUlLNepjRF",
        "execution": {
          "iopub.status.busy": "2022-02-11T01:00:22.664022Z",
          "iopub.execute_input": "2022-02-11T01:00:22.664728Z",
          "iopub.status.idle": "2022-02-11T01:00:27.136337Z",
          "shell.execute_reply.started": "2022-02-11T01:00:22.664630Z",
          "shell.execute_reply": "2022-02-11T01:00:27.135627Z"
        },
        "trusted": true
      },
      "execution_count": null,
      "outputs": []
    },
    {
      "cell_type": "code",
      "source": [
        "import numpy as np\n",
        "import cv2\n",
        "import os\n",
        "from tqdm import tqdm\n",
        "import keras\n",
        "from keras.models import Sequential\n",
        "from keras.layers import Dense, Dropout, Activation, Flatten\n",
        "from keras.layers import Conv2D, MaxPooling2D\n",
        "import random\n",
        "import tensorflow"
      ],
      "metadata": {
        "id": "AdYjPZFFWk6h",
        "execution": {
          "iopub.status.busy": "2022-02-11T01:00:27.140378Z",
          "iopub.execute_input": "2022-02-11T01:00:27.140590Z",
          "iopub.status.idle": "2022-02-11T01:00:28.090093Z",
          "shell.execute_reply.started": "2022-02-11T01:00:27.140565Z",
          "shell.execute_reply": "2022-02-11T01:00:28.089338Z"
        },
        "trusted": true
      },
      "execution_count": null,
      "outputs": []
    },
    {
      "cell_type": "code",
      "source": [
        "from os import listdir\n",
        "from os.path import isfile, join"
      ],
      "metadata": {
        "id": "HAAcEz-lWxFQ",
        "execution": {
          "iopub.status.busy": "2022-02-11T01:00:28.091462Z",
          "iopub.execute_input": "2022-02-11T01:00:28.093274Z",
          "iopub.status.idle": "2022-02-11T01:00:28.096500Z",
          "shell.execute_reply.started": "2022-02-11T01:00:28.093233Z",
          "shell.execute_reply": "2022-02-11T01:00:28.095878Z"
        },
        "trusted": true
      },
      "execution_count": null,
      "outputs": []
    },
    {
      "cell_type": "code",
      "source": [
        "from matplotlib.pyplot import imshow\n",
        "import matplotlib.cm as cm\n",
        "import matplotlib.pylab as plt\n",
        "from keras.preprocessing.image import ImageDataGenerator\n",
        "import numpy as np\n",
        "import PIL\n",
        "from PIL import ImageFilter\n",
        "import cv2\n",
        "import itertools\n",
        "import random\n",
        "import keras\n",
        "# import imutils\n",
        "# from imutils import paths\n",
        "import os\n",
        "from keras import optimizers\n",
        "from keras.preprocessing.image import img_to_array\n",
        "from sklearn.model_selection import train_test_split\n",
        "# from keras.utils import to_categorical\n",
        "from keras import callbacks\n",
        "from keras.models import Sequential\n",
        "from tensorflow.keras.layers import BatchNormalization\n",
        "from keras.layers import Dense, Dropout, Flatten\n",
        "from keras.layers import Conv2D, MaxPooling2D , UpSampling2D ,Conv2DTranspose\n",
        "from keras import backend as K\n",
        "\n",
        "%matplotlib inline"
      ],
      "metadata": {
        "id": "xDi4ekhlSZVE",
        "execution": {
          "iopub.status.busy": "2022-02-11T01:00:28.098545Z",
          "iopub.execute_input": "2022-02-11T01:00:28.099012Z",
          "iopub.status.idle": "2022-02-11T01:00:28.940898Z",
          "shell.execute_reply.started": "2022-02-11T01:00:28.098966Z",
          "shell.execute_reply": "2022-02-11T01:00:28.940231Z"
        },
        "trusted": true
      },
      "execution_count": null,
      "outputs": []
    },
    {
      "cell_type": "code",
      "source": [
        "import numpy as np # linear algebra\n",
        "import pandas as pd # data processing, CSV file I/O (e.g. pd.read_csv)\n",
        "import matplotlib.pyplot as plt\n",
        "import matplotlib.image as mpimg\n",
        "%matplotlib inline\n",
        "\n",
        "import tensorflow as tf\n",
        "from tensorflow.keras.preprocessing.image import ImageDataGenerator\n",
        "from tensorflow.keras.preprocessing.image import img_to_array, load_img\n",
        "from tensorflow.keras.utils import to_categorical\n",
        "from tensorflow.keras.layers import Reshape, Flatten\n",
        "\n",
        "import random\n",
        "import os"
      ],
      "metadata": {
        "id": "WsfDb6MhxEUf",
        "execution": {
          "iopub.status.busy": "2022-02-11T01:00:28.942159Z",
          "iopub.execute_input": "2022-02-11T01:00:28.942404Z",
          "iopub.status.idle": "2022-02-11T01:00:28.957084Z",
          "shell.execute_reply.started": "2022-02-11T01:00:28.942371Z",
          "shell.execute_reply": "2022-02-11T01:00:28.956425Z"
        },
        "trusted": true
      },
      "execution_count": null,
      "outputs": []
    },
    {
      "cell_type": "code",
      "source": [
        "from google.colab import drive\n",
        "drive.mount('/content/drive')"
      ],
      "metadata": {
        "id": "qsBKhK2RbiG4"
      },
      "execution_count": null,
      "outputs": []
    },
    {
      "cell_type": "code",
      "source": [
        "!pip install gdown"
      ],
      "metadata": {
        "execution": {
          "iopub.status.busy": "2022-02-11T01:00:30.726535Z",
          "iopub.execute_input": "2022-02-11T01:00:30.727096Z",
          "iopub.status.idle": "2022-02-11T01:00:50.236020Z",
          "shell.execute_reply.started": "2022-02-11T01:00:30.727054Z",
          "shell.execute_reply": "2022-02-11T01:00:50.235172Z"
        },
        "trusted": true,
        "id": "0qAqPZ7Enetc"
      },
      "execution_count": null,
      "outputs": []
    },
    {
      "cell_type": "code",
      "source": [
        "!gdown --id 1L843daxmFSZD_hyz_AMIQ6-dzTPDaoGJ"
      ],
      "metadata": {
        "id": "rnDJeDYP7Z8J",
        "execution": {
          "iopub.status.busy": "2022-02-11T01:00:50.238265Z",
          "iopub.execute_input": "2022-02-11T01:00:50.238530Z",
          "iopub.status.idle": "2022-02-11T01:00:52.972734Z",
          "shell.execute_reply.started": "2022-02-11T01:00:50.238488Z",
          "shell.execute_reply": "2022-02-11T01:00:52.971912Z"
        },
        "trusted": true
      },
      "execution_count": null,
      "outputs": []
    },
    {
      "cell_type": "code",
      "source": [
        "!unzip --qq './font_fam-20220209T082332Z-001.zip' -d \"./\""
      ],
      "metadata": {
        "id": "aRqX1ih11kJy",
        "execution": {
          "iopub.status.busy": "2022-02-11T01:01:14.082997Z",
          "iopub.execute_input": "2022-02-11T01:01:14.083633Z",
          "iopub.status.idle": "2022-02-11T01:02:00.126707Z",
          "shell.execute_reply.started": "2022-02-11T01:01:14.083587Z",
          "shell.execute_reply": "2022-02-11T01:02:00.125907Z"
        },
        "trusted": true
      },
      "execution_count": null,
      "outputs": []
    },
    {
      "cell_type": "code",
      "source": [
        "width = 64\n",
        "num_classes = 10\n",
        "trainpath = './font_fam/'\n",
        "testpath = './font_fam/'\n",
        "print(listdir(trainpath))\n",
        "trainImg = [trainpath+f for f in listdir(trainpath) if listdir(join(trainpath, f))]\n",
        "testImg = [testpath+f for f in listdir(testpath) if listdir(join(testpath, f))]"
      ],
      "metadata": {
        "id": "sFSWG8oyWzO4",
        "execution": {
          "iopub.status.busy": "2022-02-11T01:02:04.857810Z",
          "iopub.execute_input": "2022-02-11T01:02:04.858501Z",
          "iopub.status.idle": "2022-02-11T01:02:04.945793Z",
          "shell.execute_reply.started": "2022-02-11T01:02:04.858463Z",
          "shell.execute_reply": "2022-02-11T01:02:04.945097Z"
        },
        "trusted": true
      },
      "execution_count": null,
      "outputs": []
    },
    {
      "cell_type": "code",
      "source": [
        "# trainImg"
      ],
      "metadata": {
        "id": "6YIxrmAlC493",
        "execution": {
          "iopub.status.busy": "2022-02-11T01:02:04.985268Z",
          "iopub.execute_input": "2022-02-11T01:02:04.985463Z",
          "iopub.status.idle": "2022-02-11T01:02:04.988991Z",
          "shell.execute_reply.started": "2022-02-11T01:02:04.985440Z",
          "shell.execute_reply": "2022-02-11T01:02:04.988120Z"
        },
        "trusted": true
      },
      "execution_count": null,
      "outputs": []
    },
    {
      "cell_type": "code",
      "source": [
        "# testImg"
      ],
      "metadata": {
        "id": "tFSRk_ZScFe2",
        "execution": {
          "iopub.status.busy": "2022-02-11T01:02:05.547552Z",
          "iopub.execute_input": "2022-02-11T01:02:05.548079Z",
          "iopub.status.idle": "2022-02-11T01:02:05.551882Z",
          "shell.execute_reply.started": "2022-02-11T01:02:05.548039Z",
          "shell.execute_reply": "2022-02-11T01:02:05.550918Z"
        },
        "trusted": true
      },
      "execution_count": null,
      "outputs": []
    },
    {
      "cell_type": "code",
      "source": [
        "from keras.preprocessing import image\n",
        "import random\n",
        "def img2dataTrainTest(path, trainsize=0.8, testsizze = 0.2):\n",
        "  rawImgs = []\n",
        "  labels = []\n",
        "  x_train= [] \n",
        "  y_train= [] \n",
        "  x_test= [] \n",
        "  y_test = []\n",
        "  c = 0\n",
        "  samp = 0\n",
        "  for imagePath in (path):\n",
        "\n",
        "      for item in tqdm(os.listdir(imagePath)):\n",
        "          file = os.path.join(imagePath, item)\n",
        "          # print(item)\n",
        "          RAND = random.random()\n",
        "\n",
        "          if(RAND < trainsize):\n",
        "            l = item.split(\"_\")[2]\n",
        "            # print(l)\n",
        "            # print(file.index(\"x\"))\n",
        "            l = file[file.index(\"x\")-3:file.index(\"x\")+1]\n",
        "            # print(ipx)\n",
        "            if(l[-1] ==\")\"):\n",
        "              print(\"continue\")\n",
        "              continue             \n",
        "            if l == '12px':\n",
        "              # print(\"12px\")\n",
        "              y_train.append([1,0,0,0,0,0,0])         \n",
        "            if l == '14px':\n",
        "              # print(\"14px\")\n",
        "              y_train.append([0,1,0,0,0,0,0])\n",
        "            if l == '16px':\n",
        "              # print(\"16px\")\n",
        "              y_train.append([0,0,1,0,0,0,0])\n",
        "            if l == '18px':\n",
        "              # print(\"18px\")\n",
        "              y_train.append([0,0,0,1,0,0,0])\n",
        "            if l == '20px':\n",
        "              # print(\"20px\")\n",
        "              y_train.append([0,0,0,0,1,0,0])\n",
        "            if l == '22px':\n",
        "              # print(\"22px\")\n",
        "              y_train.append([0,0,0,0,0,1,0])\n",
        "            if l == '24px':\n",
        "              # print(\"24px\")\n",
        "              y_train.append([0,0,0,0,0,0,1])\n",
        "            # else:\n",
        "            #       print(item)\n",
        "\n",
        "            img = image.load_img(file, grayscale=True)\n",
        "            img = img.crop((0,0,112,28))\n",
        "\n",
        "            ## Convert the Image object into a numpy array\n",
        "            img = image.img_to_array(img)\n",
        "\n",
        "            ## Add to a list of images and classes\n",
        "            x_train.append(img)\n",
        "          elif(RAND > 1.0 - testsizze):\n",
        "            l = item.split(\"_\")[2]\n",
        "            # print(l)\n",
        "            l = file[file.index(\"x\")-3:file.index(\"x\")+1]\n",
        "            if(l[-1] ==\")\"):\n",
        "              print(\"continue\")\n",
        "              continue             \n",
        "            if l == '12px':\n",
        "              # print(\"12px\")\n",
        "              y_test.append([1,0,0,0,0,0,0])         \n",
        "            elif l == '14px':\n",
        "              # print(\"14px\")\n",
        "              y_test.append([0,1,0,0,0,0,0])\n",
        "            elif l == '16px':\n",
        "              # print(\"16px\")\n",
        "              y_test.append([0,0,1,0,0,0,0])\n",
        "            elif l == '18px':\n",
        "              # print(\"18px\")\n",
        "              y_test.append([0,0,0,1,0,0,0])\n",
        "            elif l == '20px':\n",
        "              # print(\"20px\")\n",
        "              y_test.append([0,0,0,0,1,0,0])\n",
        "            elif l == '22px':\n",
        "              # print(\"22px\")\n",
        "              y_test.append([0,0,0,0,0,1,0])\n",
        "            elif l == '24px':\n",
        "              # print(\"24px\")\n",
        "              y_test.append([0,0,0,0,0,0,1])\n",
        "            # else:\n",
        "            #       print(item)\n",
        "\n",
        "            img = image.load_img(file, grayscale=True)\n",
        "            img = img.crop((0,0,112,28))\n",
        "\n",
        "            ## Convert the Image object into a numpy array\n",
        "            img = image.img_to_array(img)\n",
        "\n",
        "            ## Add to a list of images and classes\n",
        "            x_test.append(img)\n",
        "\n",
        "            \n",
        "  return x_train, y_train, x_test, y_test"
      ],
      "metadata": {
        "id": "_Xj4DrptCba8",
        "execution": {
          "iopub.status.busy": "2022-02-11T01:02:13.287342Z",
          "iopub.execute_input": "2022-02-11T01:02:13.287775Z",
          "iopub.status.idle": "2022-02-11T01:02:13.307725Z",
          "shell.execute_reply.started": "2022-02-11T01:02:13.287743Z",
          "shell.execute_reply": "2022-02-11T01:02:13.306796Z"
        },
        "trusted": true
      },
      "execution_count": null,
      "outputs": []
    },
    {
      "cell_type": "code",
      "source": [
        "x_train, y_train, x_test, y_test = img2dataTrainTest(trainImg)"
      ],
      "metadata": {
        "id": "2FNoyHWkNpcF",
        "execution": {
          "iopub.status.busy": "2022-02-11T01:02:13.712794Z",
          "iopub.execute_input": "2022-02-11T01:02:13.713283Z",
          "iopub.status.idle": "2022-02-11T01:02:29.123369Z",
          "shell.execute_reply.started": "2022-02-11T01:02:13.713248Z",
          "shell.execute_reply": "2022-02-11T01:02:29.122601Z"
        },
        "trusted": true
      },
      "execution_count": null,
      "outputs": []
    },
    {
      "cell_type": "code",
      "source": [
        "x_train = np.array(x_train)\n",
        "y_train = np.array(y_train)\n",
        "x_test = np.array(x_test)\n",
        "y_test = np.array(y_test)\n",
        "x_train = x_train.astype('float32')\n",
        "x_test = x_test.astype('float32')\n",
        "x_train /= 255\n",
        "x_test /= 255"
      ],
      "metadata": {
        "id": "vgZDhbLid6uP",
        "execution": {
          "iopub.status.busy": "2022-02-11T01:02:30.195762Z",
          "iopub.execute_input": "2022-02-11T01:02:30.196379Z",
          "iopub.status.idle": "2022-02-11T01:02:31.014038Z",
          "shell.execute_reply.started": "2022-02-11T01:02:30.196335Z",
          "shell.execute_reply": "2022-02-11T01:02:31.013284Z"
        },
        "trusted": true
      },
      "execution_count": null,
      "outputs": []
    },
    {
      "cell_type": "code",
      "source": [
        "x_train.shape,y_train.shape,x_test.shape, y_test.shape"
      ],
      "metadata": {
        "id": "FICOsa4VgK2U",
        "execution": {
          "iopub.status.busy": "2022-02-11T01:02:32.133520Z",
          "iopub.execute_input": "2022-02-11T01:02:32.134056Z",
          "iopub.status.idle": "2022-02-11T01:02:32.142336Z",
          "shell.execute_reply.started": "2022-02-11T01:02:32.134015Z",
          "shell.execute_reply": "2022-02-11T01:02:32.141456Z"
        },
        "trusted": true
      },
      "execution_count": null,
      "outputs": []
    },
    {
      "cell_type": "code",
      "source": [
        "epochs = 20\n",
        "batch_size = 128"
      ],
      "metadata": {
        "id": "x5Lt5VKVv47A",
        "execution": {
          "iopub.status.busy": "2022-02-11T01:02:34.588159Z",
          "iopub.execute_input": "2022-02-11T01:02:34.588940Z",
          "iopub.status.idle": "2022-02-11T01:02:34.593005Z",
          "shell.execute_reply.started": "2022-02-11T01:02:34.588890Z",
          "shell.execute_reply": "2022-02-11T01:02:34.592160Z"
        },
        "trusted": true
      },
      "execution_count": null,
      "outputs": []
    },
    {
      "cell_type": "code",
      "source": [
        "from tensorflow.keras import regularizers"
      ],
      "metadata": {
        "execution": {
          "iopub.status.busy": "2022-02-10T23:21:32.917939Z",
          "iopub.execute_input": "2022-02-10T23:21:32.918821Z",
          "iopub.status.idle": "2022-02-10T23:21:32.923136Z",
          "shell.execute_reply.started": "2022-02-10T23:21:32.91877Z",
          "shell.execute_reply": "2022-02-10T23:21:32.922229Z"
        },
        "trusted": true,
        "id": "gtqbNhA-neti"
      },
      "execution_count": null,
      "outputs": []
    },
    {
      "cell_type": "code",
      "source": [
        "model=Sequential()\n",
        "\n",
        "#model.add(Lambda(standardize,input_shape=(28,28,1)))    \n",
        "model.add(Conv2D(filters=128, kernel_size = (3,3), activation=\"relu\", input_shape=(28,112,1)))\n",
        "model.add(Conv2D(filters=128, kernel_size = (3,3), activation=\"relu\"))\n",
        "\n",
        "model.add(MaxPooling2D(pool_size=(2,2)))\n",
        "model.add(BatchNormalization())\n",
        "model.add(Conv2D(filters=256, kernel_size = (3,3), activation=\"relu\"))\n",
        "model.add(Conv2D(filters=256, kernel_size = (3,3), activation=\"relu\"))\n",
        "\n",
        "model.add(MaxPooling2D(pool_size=(2,2)))\n",
        "model.add(BatchNormalization())    \n",
        "model.add(Conv2D(filters=512, kernel_size = (3,3), activation=\"relu\"))\n",
        "model.add(Dropout(0.25))\n",
        "    \n",
        "model.add(MaxPooling2D(pool_size=(2,2)))\n",
        "\n",
        "model.add(Flatten())\n",
        "model.add(BatchNormalization())\n",
        "model.add(Dense(1032,activation=\"relu\"))\n",
        "\n",
        "model.add(Dropout(0.25))\n",
        "\n",
        "model.add(Dense(7,activation=\"softmax\"))\n",
        "    \n",
        "model.compile(loss=\"categorical_crossentropy\", optimizer=\"adam\", metrics=[\"accuracy\"])"
      ],
      "metadata": {
        "id": "4avzDBYsv2H_",
        "execution": {
          "iopub.status.busy": "2022-02-11T01:02:42.941637Z",
          "iopub.execute_input": "2022-02-11T01:02:42.941922Z",
          "iopub.status.idle": "2022-02-11T01:02:45.215420Z",
          "shell.execute_reply.started": "2022-02-11T01:02:42.941892Z",
          "shell.execute_reply": "2022-02-11T01:02:45.213780Z"
        },
        "trusted": true
      },
      "execution_count": null,
      "outputs": []
    },
    {
      "cell_type": "code",
      "source": [
        "# With data augmentation to prevent overfitting\n",
        "\n",
        "datagen = ImageDataGenerator(\n",
        "        featurewise_center=False,  # set input mean to 0 over the dataset\n",
        "        samplewise_center=False,  # set each sample mean to 0\n",
        "        featurewise_std_normalization=False,  # divide inputs by std of the dataset\n",
        "        samplewise_std_normalization=False,  # divide each input by its std\n",
        "        zca_whitening=False,  # apply ZCA whitening\n",
        "        #rotation_range=10,  # randomly rotate images in the range (degrees, 0 to 180)\n",
        "        rotation_range=0,\n",
        "#         zoom_range = 0.1, # Randomly zoom image \n",
        "        width_shift_range=0.1,  # randomly shift images horizontally (fraction of total width)\n",
        "        height_shift_range=0.1,  # randomly shift images vertically (fraction of total height)\n",
        "        horizontal_flip=False,  # randomly flip images\n",
        "        vertical_flip=False)  # randomly flip images\n",
        "\n",
        "datagen.fit(x_train)\n",
        "#datagen.fit(X_train)\n",
        "train_gen = datagen.flow(x_train, y_train, batch_size=batch_size)\n",
        "val_gen = datagen.flow(x_test, y_test, batch_size=batch_size)"
      ],
      "metadata": {
        "id": "NCNexLG_vpm7",
        "execution": {
          "iopub.status.busy": "2022-02-11T01:02:46.586290Z",
          "iopub.execute_input": "2022-02-11T01:02:46.588000Z",
          "iopub.status.idle": "2022-02-11T01:02:46.873911Z",
          "shell.execute_reply.started": "2022-02-11T01:02:46.587947Z",
          "shell.execute_reply": "2022-02-11T01:02:46.872159Z"
        },
        "trusted": true
      },
      "execution_count": null,
      "outputs": []
    },
    {
      "cell_type": "code",
      "source": [
        "early_stopping=callbacks.EarlyStopping(monitor='val_loss', min_delta=0, patience=5, verbose=0, mode='min')\n",
        "\n",
        "filepath=\"./Second_Pong_Font_size.h5\"\n",
        "\n",
        "checkpoint = callbacks.ModelCheckpoint(filepath, monitor='val_loss', verbose=1, save_best_only=True, mode='min')\n",
        "\n",
        "callbacks_list = [early_stopping,checkpoint]"
      ],
      "metadata": {
        "id": "SvmztBgeqbfL",
        "execution": {
          "iopub.status.busy": "2022-02-11T01:02:52.326702Z",
          "iopub.execute_input": "2022-02-11T01:02:52.327365Z",
          "iopub.status.idle": "2022-02-11T01:02:52.332435Z",
          "shell.execute_reply.started": "2022-02-11T01:02:52.327322Z",
          "shell.execute_reply": "2022-02-11T01:02:52.331486Z"
        },
        "trusted": true
      },
      "execution_count": null,
      "outputs": []
    },
    {
      "cell_type": "code",
      "source": [
        "model.compile(optimizer=tf.keras.optimizers.Adam(learning_rate=0.00001), loss='categorical_crossentropy'\n",
        "                , metrics= ['accuracy'], weighted_metrics=['accuracy'])"
      ],
      "metadata": {
        "id": "dXqP8NAJpESs",
        "execution": {
          "iopub.status.busy": "2022-02-11T01:18:37.596195Z",
          "iopub.execute_input": "2022-02-11T01:18:37.596461Z",
          "iopub.status.idle": "2022-02-11T01:18:37.609386Z",
          "shell.execute_reply.started": "2022-02-11T01:18:37.596432Z",
          "shell.execute_reply": "2022-02-11T01:18:37.608638Z"
        },
        "trusted": true
      },
      "execution_count": null,
      "outputs": []
    },
    {
      "cell_type": "code",
      "source": [
        "model.summary()"
      ],
      "metadata": {
        "id": "KVj4OMXdDHe5",
        "execution": {
          "iopub.status.busy": "2022-02-11T01:02:53.188668Z",
          "iopub.execute_input": "2022-02-11T01:02:53.189268Z",
          "iopub.status.idle": "2022-02-11T01:02:53.204022Z",
          "shell.execute_reply.started": "2022-02-11T01:02:53.189225Z",
          "shell.execute_reply": "2022-02-11T01:02:53.203237Z"
        },
        "trusted": true
      },
      "execution_count": null,
      "outputs": []
    },
    {
      "cell_type": "code",
      "source": [
        "# Fit the model\n",
        "history = model.fit_generator(train_gen, \n",
        "                              epochs = epochs, \n",
        "                              steps_per_epoch = x_train.shape[0] // batch_size,\n",
        "                              validation_data = val_gen,\n",
        "                              validation_steps = x_test.shape[0] // batch_size,callbacks=callbacks_list)"
      ],
      "metadata": {
        "id": "C5hqXdR-2GFm",
        "execution": {
          "iopub.status.busy": "2022-02-11T01:18:40.339151Z",
          "iopub.execute_input": "2022-02-11T01:18:40.339721Z",
          "iopub.status.idle": "2022-02-11T01:31:00.015050Z",
          "shell.execute_reply.started": "2022-02-11T01:18:40.339680Z",
          "shell.execute_reply": "2022-02-11T01:31:00.014261Z"
        },
        "trusted": true
      },
      "execution_count": null,
      "outputs": []
    },
    {
      "cell_type": "markdown",
      "source": [
        "#Prediction\n"
      ],
      "metadata": {
        "id": "RjEuYD5hjIvG"
      }
    },
    {
      "cell_type": "code",
      "source": [
        "import pandas as pd\n",
        "import os\n",
        "from tqdm import tqdm\n",
        "import cv2\n",
        "import numpy as np"
      ],
      "metadata": {
        "id": "n5C0aFlCkYbz",
        "execution": {
          "iopub.status.busy": "2022-02-11T01:31:00.016973Z",
          "iopub.execute_input": "2022-02-11T01:31:00.017388Z",
          "iopub.status.idle": "2022-02-11T01:31:00.022241Z",
          "shell.execute_reply.started": "2022-02-11T01:31:00.017342Z",
          "shell.execute_reply": "2022-02-11T01:31:00.021338Z"
        },
        "trusted": true
      },
      "execution_count": null,
      "outputs": []
    },
    {
      "cell_type": "code",
      "source": [
        "# origin_submit = pd.read_csv(\"sample_submission.csv\")\n",
        "# origin_submit.head()\n",
        "#Sample submission "
      ],
      "metadata": {
        "id": "s6O-eGvXjLbz",
        "execution": {
          "iopub.status.busy": "2022-02-11T01:31:00.023495Z",
          "iopub.execute_input": "2022-02-11T01:31:00.024194Z",
          "iopub.status.idle": "2022-02-11T01:31:00.329890Z",
          "shell.execute_reply.started": "2022-02-11T01:31:00.024157Z",
          "shell.execute_reply": "2022-02-11T01:31:00.329090Z"
        },
        "trusted": true
      },
      "execution_count": null,
      "outputs": []
    },
    {
      "cell_type": "code",
      "source": [
        "# origin_submit.info()"
      ],
      "metadata": {
        "id": "TpRgI0uBkWvY",
        "execution": {
          "iopub.status.busy": "2022-02-11T01:31:00.331954Z",
          "iopub.execute_input": "2022-02-11T01:31:00.332373Z",
          "iopub.status.idle": "2022-02-11T01:31:00.399218Z",
          "shell.execute_reply.started": "2022-02-11T01:31:00.332334Z",
          "shell.execute_reply": "2022-02-11T01:31:00.398521Z"
        },
        "trusted": true
      },
      "execution_count": null,
      "outputs": []
    },
    {
      "cell_type": "code",
      "source": [
        "!gdown --id 1kwyUNRzwZQp8BsiTNdIxjFl4iKLZNAh3 #download test data"
      ],
      "metadata": {
        "id": "PyBQNNmekr3S",
        "execution": {
          "iopub.status.busy": "2022-02-11T01:31:00.400496Z",
          "iopub.execute_input": "2022-02-11T01:31:00.400758Z",
          "iopub.status.idle": "2022-02-11T01:31:05.744737Z",
          "shell.execute_reply.started": "2022-02-11T01:31:00.400723Z",
          "shell.execute_reply": "2022-02-11T01:31:05.743911Z"
        },
        "trusted": true
      },
      "execution_count": null,
      "outputs": []
    },
    {
      "cell_type": "code",
      "source": [
        "!mkdir test/"
      ],
      "metadata": {
        "execution": {
          "iopub.status.busy": "2022-02-11T01:31:05.746690Z",
          "iopub.execute_input": "2022-02-11T01:31:05.747029Z",
          "iopub.status.idle": "2022-02-11T01:31:06.439759Z",
          "shell.execute_reply.started": "2022-02-11T01:31:05.746986Z",
          "shell.execute_reply": "2022-02-11T01:31:06.438855Z"
        },
        "trusted": true,
        "id": "OPin6XfNnetn"
      },
      "execution_count": null,
      "outputs": []
    },
    {
      "cell_type": "code",
      "source": [
        "!unzip --qq \"./crop_test_to_png.zip\" -d \"./test/\""
      ],
      "metadata": {
        "id": "R75_Bf0zlJSM",
        "execution": {
          "iopub.status.busy": "2022-02-11T01:31:06.443254Z",
          "iopub.execute_input": "2022-02-11T01:31:06.443518Z",
          "iopub.status.idle": "2022-02-11T01:31:11.330446Z",
          "shell.execute_reply.started": "2022-02-11T01:31:06.443486Z",
          "shell.execute_reply": "2022-02-11T01:31:11.329569Z"
        },
        "trusted": true
      },
      "execution_count": null,
      "outputs": []
    },
    {
      "cell_type": "code",
      "source": [
        "testdir = './test/crop_test_to_png/' #diectory where test data is"
      ],
      "metadata": {
        "id": "b5rb5WQBlMwC",
        "execution": {
          "iopub.status.busy": "2022-02-11T01:31:11.332394Z",
          "iopub.execute_input": "2022-02-11T01:31:11.332690Z",
          "iopub.status.idle": "2022-02-11T01:31:11.336829Z",
          "shell.execute_reply.started": "2022-02-11T01:31:11.332647Z",
          "shell.execute_reply": "2022-02-11T01:31:11.336103Z"
        },
        "trusted": true
      },
      "execution_count": null,
      "outputs": []
    },
    {
      "cell_type": "code",
      "source": [
        "print(len(os.listdir('./test/crop_test_to_png')))"
      ],
      "metadata": {
        "id": "Fl_IfITBlh5-",
        "execution": {
          "iopub.status.busy": "2022-02-11T01:31:11.338215Z",
          "iopub.execute_input": "2022-02-11T01:31:11.338463Z",
          "iopub.status.idle": "2022-02-11T01:31:11.373645Z",
          "shell.execute_reply.started": "2022-02-11T01:31:11.338428Z",
          "shell.execute_reply": "2022-02-11T01:31:11.372914Z"
        },
        "trusted": true
      },
      "execution_count": null,
      "outputs": []
    },
    {
      "cell_type": "code",
      "source": [
        "!gdown --id 1dXBUUyGWHF3B-kR-3Z1Pn9uhHJrivi5m"
      ],
      "metadata": {
        "colab": {
          "base_uri": "https://localhost:8080/"
        },
        "id": "cHyfHrofoYvk",
        "outputId": "d1af5515-955f-4f91-eae3-61e88f496343"
      },
      "execution_count": null,
      "outputs": [
        {
          "output_type": "stream",
          "name": "stdout",
          "text": [
            "Downloading...\n",
            "From: https://drive.google.com/uc?id=1dXBUUyGWHF3B-kR-3Z1Pn9uhHJrivi5m\n",
            "To: /content/Second_Pong_Font_size.h5\n",
            "100% 96.7M/96.7M [00:01<00:00, 66.8MB/s]\n"
          ]
        }
      ]
    },
    {
      "cell_type": "code",
      "source": [
        "from tensorflow import keras\n",
        "from keras.preprocessing import image\n",
        "model = keras.models.load_model('/content/Second_Pong_Font_size.h5')\n",
        "# model = keras.models.load_model('./Pong_Font_size.h5')\n"
      ],
      "metadata": {
        "id": "8r1o4SOWmVCb",
        "execution": {
          "iopub.status.busy": "2022-02-11T01:31:11.376393Z",
          "iopub.execute_input": "2022-02-11T01:31:11.376602Z",
          "iopub.status.idle": "2022-02-11T01:31:11.768410Z",
          "shell.execute_reply.started": "2022-02-11T01:31:11.376570Z",
          "shell.execute_reply": "2022-02-11T01:31:11.767439Z"
        },
        "trusted": true
      },
      "execution_count": null,
      "outputs": []
    },
    {
      "cell_type": "code",
      "source": [
        "def predict(path):\n",
        "  predictions = []\n",
        "  parentId = []\n",
        "  for item in tqdm(os.listdir(path)):\n",
        "\n",
        "    img = image.load_img(testdir + item, grayscale=True)\n",
        "    img = img.crop((0,0,112,28))\n",
        "\n",
        "    ## Convert the Image object into a numpy array\n",
        "    img = image.img_to_array(img)\n",
        "\n",
        "    ## Add to a list of images and classes\n",
        "    # x_test.append(img)\n",
        "\n",
        "    # img = cv2.imread(testdir + item)\n",
        "    # img = cv2.resize(img ,(105,105))\n",
        "    \n",
        "    # testimg = np.array(img)\n",
        "    testimg = img.astype('float32')\n",
        "    testimg /= 255\n",
        "    rimg = np.reshape(testimg ,(1,28,112,1))\n",
        "    predict = model.predict(rimg)\n",
        "    label = ['12px', '14px', '16px', '18px', '20px', '22px', '24px']\n",
        "    # predict = model.predict(testimg)\n",
        "    result = label[np.argmax(predict)]\n",
        "    predictions.append(result)\n",
        "    parentId.append(item.split(\".\")[0]+\"_size\")\n",
        "    # print(result)\n",
        "            \n",
        "  return parentId, predictions"
      ],
      "metadata": {
        "id": "_3zFHlsUr03r",
        "execution": {
          "iopub.status.busy": "2022-02-11T01:31:11.769945Z",
          "iopub.execute_input": "2022-02-11T01:31:11.770212Z",
          "iopub.status.idle": "2022-02-11T01:31:11.780645Z",
          "shell.execute_reply.started": "2022-02-11T01:31:11.770169Z",
          "shell.execute_reply": "2022-02-11T01:31:11.779813Z"
        },
        "trusted": true
      },
      "execution_count": null,
      "outputs": []
    },
    {
      "cell_type": "code",
      "source": [
        "parentId, pred = predict(testdir)"
      ],
      "metadata": {
        "id": "5XkC1dV3rPrZ",
        "execution": {
          "iopub.status.busy": "2022-02-11T01:31:11.781926Z",
          "iopub.execute_input": "2022-02-11T01:31:11.782762Z",
          "iopub.status.idle": "2022-02-11T01:58:54.902298Z",
          "shell.execute_reply.started": "2022-02-11T01:31:11.782724Z",
          "shell.execute_reply": "2022-02-11T01:58:54.901505Z"
        },
        "trusted": true
      },
      "execution_count": null,
      "outputs": []
    },
    {
      "cell_type": "code",
      "source": [
        "# origin_submit = pd.read_csv(\"../input/submission-fontrecog/Clear_Machi2_New_base_submission.csv\")\n",
        "# origin_submit.head()"
      ],
      "metadata": {
        "execution": {
          "iopub.status.busy": "2022-02-10T22:55:26.00583Z",
          "iopub.execute_input": "2022-02-10T22:55:26.006599Z",
          "iopub.status.idle": "2022-02-10T22:55:26.245835Z",
          "shell.execute_reply.started": "2022-02-10T22:55:26.006558Z",
          "shell.execute_reply": "2022-02-10T22:55:26.245026Z"
        },
        "trusted": true,
        "id": "44nFzV_1neto"
      },
      "execution_count": null,
      "outputs": []
    },
    {
      "cell_type": "code",
      "source": [
        "# for i in tqdm(range(len(parentId))):\n",
        "    \n",
        "#     idx = origin_submit['Id'].loc[lambda x: x==str(parentId[i])].index\n",
        "# #     print(idx[0])a\n",
        "#     origin_submit['Predicted'][idx[0]] = pred[i]"
      ],
      "metadata": {
        "id": "9EjqWdixkgEw",
        "execution": {
          "iopub.status.busy": "2022-02-10T22:55:27.285707Z",
          "iopub.execute_input": "2022-02-10T22:55:27.286231Z",
          "iopub.status.idle": "2022-02-10T23:02:32.051172Z",
          "shell.execute_reply.started": "2022-02-10T22:55:27.286194Z",
          "shell.execute_reply": "2022-02-10T23:02:32.049906Z"
        },
        "trusted": true
      },
      "execution_count": null,
      "outputs": []
    },
    {
      "cell_type": "code",
      "source": [
        "# for i in tqdm(range(len(parentId))):\n",
        "# #     parentId, pred\n",
        "#     idx = origin_submit['Id'].loc[lambda x: x==str(parentId[i])].index\n",
        "# #     print(idx[0])a\n",
        "#     origin_submit['Predicted'][idx[0]] = pred[i]"
      ],
      "metadata": {
        "id": "o2Cu5MkInetp"
      },
      "execution_count": null,
      "outputs": []
    },
    {
      "cell_type": "markdown",
      "source": [
        "zip แล้วเข้าไป merge data \n"
      ],
      "metadata": {
        "id": "iYyey7FMo2o7"
      }
    },
    {
      "cell_type": "code",
      "source": [
        "# origin_submit.to_csv('testSubmit.csv',index=False)"
      ],
      "metadata": {
        "id": "WnlohHcN6Upq"
      },
      "execution_count": null,
      "outputs": []
    },
    {
      "cell_type": "code",
      "source": [
        "df = pd.DataFrame(list(zip(parentId, pred)),\n",
        "               columns =['Id', 'Predicted'])"
      ],
      "metadata": {
        "id": "jiuq7ahC6UlM",
        "execution": {
          "iopub.status.busy": "2022-02-11T02:13:58.513136Z",
          "iopub.execute_input": "2022-02-11T02:13:58.513421Z",
          "iopub.status.idle": "2022-02-11T02:13:58.544797Z",
          "shell.execute_reply.started": "2022-02-11T02:13:58.513389Z",
          "shell.execute_reply": "2022-02-11T02:13:58.544096Z"
        },
        "trusted": true
      },
      "execution_count": null,
      "outputs": []
    },
    {
      "cell_type": "code",
      "source": [
        "df.to_csv('Second_Font_size_pong.csv',index=False)"
      ],
      "metadata": {
        "id": "WPmF-SHo_s9z",
        "execution": {
          "iopub.status.busy": "2022-02-11T02:14:10.282396Z",
          "iopub.execute_input": "2022-02-11T02:14:10.282645Z",
          "iopub.status.idle": "2022-02-11T02:14:10.378574Z",
          "shell.execute_reply.started": "2022-02-11T02:14:10.282616Z",
          "shell.execute_reply": "2022-02-11T02:14:10.377901Z"
        },
        "trusted": true
      },
      "execution_count": null,
      "outputs": []
    },
    {
      "cell_type": "markdown",
      "source": [
        "#Merge df\n"
      ],
      "metadata": {
        "id": "lZ4ik4loomIO"
      }
    },
    {
      "cell_type": "code",
      "source": [
        "base_submission = pd.read_csv(\"../input/submission-fontrecog/Clear_Machi2_New_base_submission.csv\")\n",
        "base_submission.head()"
      ],
      "metadata": {
        "id": "Ioqz35mO_zYx",
        "execution": {
          "iopub.status.busy": "2022-02-10T22:34:01.089502Z",
          "iopub.execute_input": "2022-02-10T22:34:01.089765Z",
          "iopub.status.idle": "2022-02-10T22:34:01.324736Z",
          "shell.execute_reply.started": "2022-02-10T22:34:01.089736Z",
          "shell.execute_reply": "2022-02-10T22:34:01.324002Z"
        },
        "trusted": true
      },
      "execution_count": null,
      "outputs": []
    },
    {
      "cell_type": "code",
      "source": [
        "new_submission = pd.read_csv(\"../input/fontsize-predivt-val-80/Font_size_pong.csv\")\n",
        "new_submission.head()"
      ],
      "metadata": {
        "id": "TU77TVTro6hf",
        "execution": {
          "iopub.status.busy": "2022-02-10T22:34:01.907918Z",
          "iopub.execute_input": "2022-02-10T22:34:01.908498Z",
          "iopub.status.idle": "2022-02-10T22:34:01.958131Z",
          "shell.execute_reply.started": "2022-02-10T22:34:01.908454Z",
          "shell.execute_reply": "2022-02-10T22:34:01.957342Z"
        },
        "trusted": true
      },
      "execution_count": null,
      "outputs": []
    },
    {
      "cell_type": "code",
      "source": [
        "Predicted = new_submission['Predicted'].tolist\n",
        "print(type(Predicted))\n",
        "print(Predicted)"
      ],
      "metadata": {
        "execution": {
          "iopub.status.busy": "2022-02-10T22:35:52.37306Z",
          "iopub.execute_input": "2022-02-10T22:35:52.373382Z",
          "iopub.status.idle": "2022-02-10T22:35:52.389665Z",
          "shell.execute_reply.started": "2022-02-10T22:35:52.373348Z",
          "shell.execute_reply": "2022-02-10T22:35:52.389033Z"
        },
        "trusted": true,
        "id": "tognHRuInetq"
      },
      "execution_count": null,
      "outputs": []
    },
    {
      "cell_type": "code",
      "source": [
        "for i in tqdm(range(len(new_submission['Id']))):\n",
        "    ParentId = new_submission['Id'][i]\n",
        "    Predicted = new_submission['Predicted'][i]\n",
        "    \n",
        "#     print(base_submission['Id'].find(\"ParentId\"))\n",
        "#     idx = base_submission['Id'].loc[lambda x: x==str(new_submission['Id'][i])+\"_style-weight\"].index\n",
        "# #     print(idx[0])a\n",
        "#     base_submission['Predicted'][idx[0]] = new_submission['Predicted'][i]"
      ],
      "metadata": {
        "id": "psFYcQPAo4HH",
        "execution": {
          "iopub.status.busy": "2022-02-10T22:39:42.828844Z",
          "iopub.execute_input": "2022-02-10T22:39:42.829364Z",
          "iopub.status.idle": "2022-02-10T22:39:42.894271Z",
          "shell.execute_reply.started": "2022-02-10T22:39:42.829326Z",
          "shell.execute_reply": "2022-02-10T22:39:42.893185Z"
        },
        "trusted": true
      },
      "execution_count": null,
      "outputs": []
    },
    {
      "cell_type": "code",
      "source": [
        "for i in tqdm(range(len(new_submission['Id']))):\n",
        "    idx = base_submission['Id'].loc[lambda x: x==str(new_submission['Id'][i])+\"_style-weight\"].index\n",
        "#     print(idx[0])a\n",
        "    base_submission['Predicted'][idx[0]] = new_submission['Predicted'][i]"
      ],
      "metadata": {
        "id": "4k1Ows-snetr"
      },
      "execution_count": null,
      "outputs": []
    },
    {
      "cell_type": "code",
      "source": [
        "base_submission.to_csv('Machi2_New_base_submission.csv',index=False)"
      ],
      "metadata": {
        "id": "v7XWyIhku7dG"
      },
      "execution_count": null,
      "outputs": []
    },
    {
      "cell_type": "markdown",
      "source": [
        "#predict individual file\n"
      ],
      "metadata": {
        "id": "LEMRiFKRgLFA"
      }
    },
    {
      "cell_type": "code",
      "source": [
        "def predictSome(path):\n",
        "    c = 0\n",
        "  \n",
        "    predictions = []\n",
        "    parentId = []\n",
        "    c+=1\n",
        "    img = image.load_img(path, grayscale=True)\n",
        "    img = img.crop((0,0,112,28))\n",
        "\n",
        "    ## Convert the Image object into a numpy array\n",
        "    img = image.img_to_array(img)\n",
        "\n",
        "    ## Add to a list of images and classes\n",
        "    # x_test.append(img)\n",
        "\n",
        "    # img = cv2.imread(testdir + item)\n",
        "    # img = cv2.resize(img ,(105,105))\n",
        "    \n",
        "    # testimg = np.array(img)\n",
        "    testimg = img.astype('float32')\n",
        "    testimg /= 255\n",
        "    rimg = np.reshape(testimg ,(1,28,112,1))\n",
        "    predict = model.predict(rimg)\n",
        "    label = ['12px', '14px', '16px', '18px', '20px', '22px', '24px']\n",
        "    result = label[np.argmax(predict)]\n",
        "    predictions.append(result)\n",
        "    parentId.append(path.split(\".\")[0])\n",
        "    l = path[path.index(\"x\")-3:path.index(\"x\")+1]\n",
        "#     l = (path.split(\"_\")[-2] + \"-\" + path.split(\"_\")[-1]).split(\".\")[0]\n",
        "    print(result)\n",
        "    print(predict)\n",
        "    print('real:'+str(l))\n",
        "    print('predict:'+str(result))\n",
        "    \n",
        "            \n",
        "    return parentId, predictions"
      ],
      "metadata": {
        "id": "_2kb6YeEgQoA",
        "execution": {
          "iopub.status.busy": "2022-02-10T21:53:15.292616Z",
          "iopub.execute_input": "2022-02-10T21:53:15.292895Z",
          "iopub.status.idle": "2022-02-10T21:53:15.302193Z",
          "shell.execute_reply.started": "2022-02-10T21:53:15.292862Z",
          "shell.execute_reply": "2022-02-10T21:53:15.301218Z"
        },
        "trusted": true
      },
      "execution_count": null,
      "outputs": []
    },
    {
      "cell_type": "code",
      "source": [
        "datapath = './font_fam/Angsana_New/'\n",
        "datadir = './font_fam/'"
      ],
      "metadata": {
        "id": "VrzpZmfRkoLA",
        "execution": {
          "iopub.status.busy": "2022-02-10T21:53:16.392402Z",
          "iopub.execute_input": "2022-02-10T21:53:16.392875Z",
          "iopub.status.idle": "2022-02-10T21:53:16.397423Z",
          "shell.execute_reply.started": "2022-02-10T21:53:16.392835Z",
          "shell.execute_reply": "2022-02-10T21:53:16.396668Z"
        },
        "trusted": true
      },
      "execution_count": null,
      "outputs": []
    },
    {
      "cell_type": "code",
      "source": [
        "parentId, predictions = predictSome(datapath + os.listdir(datapath)[456])"
      ],
      "metadata": {
        "id": "w4h_EBj9kqw2",
        "execution": {
          "iopub.status.busy": "2022-02-10T21:53:17.627371Z",
          "iopub.execute_input": "2022-02-10T21:53:17.628108Z",
          "iopub.status.idle": "2022-02-10T21:53:17.677387Z",
          "shell.execute_reply.started": "2022-02-10T21:53:17.628068Z",
          "shell.execute_reply": "2022-02-10T21:53:17.676114Z"
        },
        "trusted": true
      },
      "execution_count": null,
      "outputs": []
    },
    {
      "cell_type": "code",
      "source": [
        "for path in(os.listdir(datadir)):\n",
        "    print(\">>>>>\"+str(path)+\"<<<<<\")\n",
        "    for i in range(5):\n",
        "        print(datadir)\n",
        "        a,b = predictSome(datadir+path+\"/\" + os.listdir(datadir+path)[i])\n",
        "#         parentId, predictions = predictSome(datadir + os.listdir(datadir+path)[i])\n",
        "        print(\"\\n\")"
      ],
      "metadata": {
        "id": "oCWHz1dNkr8O",
        "execution": {
          "iopub.status.busy": "2022-02-10T21:53:24.399338Z",
          "iopub.execute_input": "2022-02-10T21:53:24.399602Z",
          "iopub.status.idle": "2022-02-10T21:53:26.444233Z",
          "shell.execute_reply.started": "2022-02-10T21:53:24.399571Z",
          "shell.execute_reply": "2022-02-10T21:53:26.443435Z"
        },
        "collapsed": true,
        "jupyter": {
          "outputs_hidden": true
        },
        "trusted": true
      },
      "execution_count": null,
      "outputs": []
    },
    {
      "cell_type": "markdown",
      "source": [
        "#Predict-font-family-rule-base\n"
      ],
      "metadata": {
        "id": "QblAz8IQO3dA"
      }
    },
    {
      "cell_type": "code",
      "source": [
        "import pandas as pd\n",
        "import os\n",
        "from tqdm import tqdm\n",
        "import cv2\n",
        "import numpy as np"
      ],
      "metadata": {
        "id": "QXgXY42DQbIV",
        "execution": {
          "iopub.status.busy": "2022-02-10T21:54:17.466847Z",
          "iopub.execute_input": "2022-02-10T21:54:17.46713Z",
          "iopub.status.idle": "2022-02-10T21:54:17.472145Z",
          "shell.execute_reply.started": "2022-02-10T21:54:17.4671Z",
          "shell.execute_reply": "2022-02-10T21:54:17.471413Z"
        },
        "trusted": true
      },
      "execution_count": null,
      "outputs": []
    },
    {
      "cell_type": "code",
      "source": [
        "origin_submit = pd.read_csv(\"/content/sample_submission.csv\")\n",
        "origin_submit.head()"
      ],
      "metadata": {
        "id": "yfy_ebc0QhrG"
      },
      "execution_count": null,
      "outputs": []
    },
    {
      "cell_type": "code",
      "source": [
        "origin_submit.info()"
      ],
      "metadata": {
        "id": "2r9FtpKRQkuW"
      },
      "execution_count": null,
      "outputs": []
    },
    {
      "cell_type": "code",
      "source": [
        "predicted_csv = pd.read_csv(\"/content/sample_submission.csv\")"
      ],
      "metadata": {
        "id": "YYTvgsWpQr1Z"
      },
      "execution_count": null,
      "outputs": []
    },
    {
      "cell_type": "code",
      "source": [
        "def decodePredict(num):\n",
        "  if(int(num) == 0): return \"Angsana_New\"\n",
        "  if(int(num) == 1): return \"Cordia_New\"\n",
        "  if(int(num) == 2): return \"DM_Shining_Star_Regular\"\n",
        "  if(int(num) == 3): return \"FC_Knomphing_Regular\"\n",
        "  if(int(num) == 4): return \"fonttintin\"\n",
        "  if(int(num) == 5): return \"Kunlasatri\"\n",
        "  if(int(num) == 6): return \"TH_Chakra_Petch\"\n",
        "  if(int(num) == 7): return \"TH_Charm_of_AU\"\n",
        "  if(int(num) == 8): return \"TH_Mali_Grade6\"\n",
        "  if(int(num) == 9): return \"TH_Sarabun\"\n",
        "  # 0 Angsana_New\n",
        "  # 1 Cordia_New\n",
        "  # 2 DM_Shining_Star_Regular\n",
        "  # 3 FC_Knomphing_Regular\n",
        "  # 4 fonttintin\n",
        "  # 5 Kunlasatri\n",
        "  # 6 TH_Chakra_Petch\n",
        "  # 7 TH_Charm_of_AU\n",
        "  # 8 TH_Mali_Grade6\n",
        "  # 9 TH_Sarabun"
      ],
      "metadata": {
        "id": "Gfipt8kJTzko"
      },
      "execution_count": null,
      "outputs": []
    },
    {
      "cell_type": "code",
      "source": [
        "for i in tqdm(range(len(predicted_csv['parentId']))):\n",
        "    idx = origin_submit['Id'].loc[lambda x: x==str(predicted_csv[i])+\"_name\"].index\n",
        "    # print(idx[0])\n",
        "    origin_submit['Predicted'][idx[0]] = predicted_csv['prediction']\n",
        "    origin_submit['Predicted'][idx[0]+1] = str(predicted_csv['prediction'])+\".ttf\""
      ],
      "metadata": {
        "id": "Zphg3hY_Q1Yd"
      },
      "execution_count": null,
      "outputs": []
    }
  ]
}