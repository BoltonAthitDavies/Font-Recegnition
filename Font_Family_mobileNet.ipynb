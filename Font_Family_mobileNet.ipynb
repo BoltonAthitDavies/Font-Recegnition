{
  "cells": [
    {
      "cell_type": "code",
      "execution_count": null,
      "metadata": {
        "colab": {
          "base_uri": "https://localhost:8080/"
        },
        "id": "Kmo0W3VODR5d",
        "outputId": "c2e9a442-053a-4e02-801a-f91f690a81c5"
      },
      "outputs": [
        {
          "output_type": "stream",
          "name": "stdout",
          "text": [
            "Mounted at /content/drive\n"
          ]
        }
      ],
      "source": [
        "from google.colab import drive\n",
        "drive.mount('/content/drive',force_remount=True)"
      ]
    },
    {
      "cell_type": "code",
      "execution_count": null,
      "metadata": {
        "colab": {
          "base_uri": "https://localhost:8080/"
        },
        "id": "e5GkxX99hKE5",
        "outputId": "7b675973-7144-4c40-eccf-55488d503b04"
      },
      "outputs": [
        {
          "output_type": "stream",
          "name": "stdout",
          "text": [
            "Downloading...\n",
            "From: https://drive.google.com/uc?id=1L843daxmFSZD_hyz_AMIQ6-dzTPDaoGJ\n",
            "To: /content/font_fam-20220209T082332Z-001.zip\n",
            "100% 86.7M/86.7M [00:00<00:00, 207MB/s]\n"
          ]
        }
      ],
      "source": [
        "!gdown --id 1L843daxmFSZD_hyz_AMIQ6-dzTPDaoGJ"
      ]
    },
    {
      "cell_type": "code",
      "execution_count": null,
      "metadata": {
        "id": "VJFdFqbZqSyn"
      },
      "outputs": [],
      "source": [
        "!unzip --qq \"/content/font_fam-20220209T082332Z-001.zip\" -d\"/content/data/\""
      ]
    },
    {
      "cell_type": "code",
      "execution_count": null,
      "metadata": {
        "id": "cGddZ-lvTwXN"
      },
      "outputs": [],
      "source": [
        "#path_data = \"/content/drive/MyDrive/Machima/MiniHackathon-Week1-FontRecogition/font_recognition/train/font_fam/\"\n",
        "path_data = \"/content/data/font_fam/\""
      ]
    },
    {
      "cell_type": "code",
      "execution_count": null,
      "metadata": {
        "id": "hUkBRdY8ndhZ",
        "scrolled": true
      },
      "outputs": [],
      "source": [
        "from matplotlib.pyplot import imshow\n",
        "import matplotlib.cm as cm\n",
        "import matplotlib.pylab as plt\n",
        "from keras.preprocessing.image import ImageDataGenerator\n",
        "import numpy as np\n",
        "import PIL\n",
        "from PIL import ImageFilter\n",
        "import cv2\n",
        "import itertools\n",
        "import random\n",
        "import keras\n",
        "import imutils\n",
        "from imutils import paths\n",
        "import os\n",
        "from keras import optimizers\n",
        "from keras.preprocessing.image import img_to_array\n",
        "from sklearn.model_selection import train_test_split\n",
        "from tensorflow.keras.utils import to_categorical\n",
        "from keras import callbacks\n",
        "from keras.models import Sequential\n",
        "from tensorflow.keras.layers import BatchNormalization\n",
        "from keras.layers import Dense, Dropout, Flatten\n",
        "from keras.layers import Conv2D, MaxPooling2D , UpSampling2D ,Conv2DTranspose\n",
        "from keras import backend as K\n",
        "\n",
        "from tqdm import tqdm\n",
        "\n",
        "import cv2\n",
        "\n",
        "%matplotlib inline"
      ]
    },
    {
      "cell_type": "code",
      "execution_count": null,
      "metadata": {
        "id": "JHEynQv2ndhn"
      },
      "outputs": [],
      "source": [
        "import cv2\n",
        "def pil_image(img_path):\n",
        "    #pil_im =PIL.Image.open(img_path).convert('L')\n",
        "    #pil_im =PIL.Image.open(img_path)\n",
        "    \n",
        "    pil_im = cv2.imread(img_path)\n",
        "    pil_im=cv2.resize(img, (224, 224))\n",
        "    #imshow(np.asarray(pil_im))\n",
        "    return pil_im"
      ]
    },
    {
      "cell_type": "markdown",
      "metadata": {
        "id": "1hbTCU2qndht"
      },
      "source": [
        "# Augumentation Steps \n",
        "1) Noise\n",
        "2) Blur\n",
        "3) Perpective Rotation\n",
        "4) Shading\n",
        "5) Variable Character Spacing\n",
        "6) Variable Aspect Ratio"
      ]
    },
    {
      "cell_type": "code",
      "execution_count": null,
      "metadata": {
        "id": "MLCHbBKsndhv"
      },
      "outputs": [],
      "source": [
        "def noise_image(pil_im):\n",
        "    # Adding Noise to image\n",
        "    img_array = np.asarray(pil_im)\n",
        "    mean = 0.0   # some constant\n",
        "    std = 5   # some constant (standard deviation)\n",
        "    noisy_img = img_array + np.random.normal(mean, std, img_array.shape)\n",
        "    noisy_img_clipped = np.clip(noisy_img, 0, 255)\n",
        "    noise_img = PIL.Image.fromarray(np.uint8(noisy_img_clipped)) # output\n",
        "    #imshow((noisy_img_clipped ).astype(np.uint8))\n",
        "    noise_img=noise_img.resize((105,105))\n",
        "    return noise_img"
      ]
    },
    {
      "cell_type": "code",
      "execution_count": null,
      "metadata": {
        "id": "5TPvDBV5ndh2"
      },
      "outputs": [],
      "source": [
        "def blur_image(pil_im):\n",
        "    #Adding Blur to image \n",
        "    blur_img = pil_im.filter(ImageFilter.GaussianBlur(radius=3)) # ouput\n",
        "    #imshow(blur_img)\n",
        "    blur_img=blur_img.resize((105,105))\n",
        "    return blur_img"
      ]
    },
    {
      "cell_type": "code",
      "execution_count": null,
      "metadata": {
        "id": "CIDSvv7Qndh6"
      },
      "outputs": [],
      "source": [
        "def affine_rotation(img):\n",
        "    \n",
        "    #img=cv2.imread(img_path,0)\n",
        "    rows, columns = img.shape\n",
        "\n",
        "    point1 = np.float32([[10, 10], [30, 10], [10, 30]])\n",
        "    point2 = np.float32([[20, 15], [40, 10], [20, 40]])\n",
        "\n",
        "    A = cv2.getAffineTransform(point1, point2)\n",
        "\n",
        "    output = cv2.warpAffine(img, A, (columns, rows))\n",
        "    affine_img = PIL.Image.fromarray(np.uint8(output)) # affine rotated output\n",
        "    #imshow(output)\n",
        "    affine_img=affine_img.resize((105,105))\n",
        "    return affine_img\n",
        "   "
      ]
    },
    {
      "cell_type": "code",
      "execution_count": null,
      "metadata": {
        "id": "VCy6ReUNndh_"
      },
      "outputs": [],
      "source": [
        "def gradient_fill(image):\n",
        "    #image=cv2.imread(img_path,0)\n",
        "    laplacian = cv2.Laplacian(image,cv2.CV_64F)\n",
        "    laplacian = cv2.resize(laplacian, (224, 224))\n",
        "    return laplacian"
      ]
    },
    {
      "cell_type": "markdown",
      "metadata": {
        "id": "OBLjVHT9ndiF"
      },
      "source": [
        "## Preparing Dataset"
      ]
    },
    {
      "cell_type": "code",
      "execution_count": null,
      "metadata": {
        "id": "6hc1RAaVndiI"
      },
      "outputs": [],
      "source": [
        "data_path = \"/content/data/font_fam/\"\n",
        "data=[]\n",
        "labels=[]\n",
        "imagePaths = sorted(list(paths.list_images(data_path)))\n",
        "random.seed(42)\n",
        "random.shuffle(imagePaths)"
      ]
    },
    {
      "cell_type": "code",
      "execution_count": null,
      "metadata": {
        "id": "HYYzr_c1ndiN"
      },
      "outputs": [],
      "source": [
        "def conv_label(label):\n",
        "    if label == 'TH_Charm_of_AU':\n",
        "        return 0\n",
        "    elif label == 'TH_Mali_Grade6':\n",
        "        return 1\n",
        "    elif label == 'THSarabun':\n",
        "        return 2\n",
        "    elif label == 'Kunlasatri':\n",
        "        return 3\n",
        "    elif label == 'CORDIA':\n",
        "        return 4\n",
        "    elif label == 'Angsana_New':\n",
        "        return 5\n",
        "    elif label == 'DM_Shining Star_Regular':\n",
        "        return 6\n",
        "    elif label == 'TH_Chakra_Petch':\n",
        "        return 7\n",
        "    elif label == 'FC_Knomphing_Regular':\n",
        "        return 8\n",
        "    elif label == 'fonttintin':\n",
        "        return 9"
      ]
    },
    {
      "cell_type": "code",
      "execution_count": null,
      "metadata": {
        "colab": {
          "base_uri": "https://localhost:8080/"
        },
        "id": "L5emmKqjd-3Q",
        "outputId": "f8b2bddf-4b57-4c0e-ec67-ae090afeb1fc"
      },
      "outputs": [
        {
          "output_type": "stream",
          "name": "stdout",
          "text": [
            "['blur', 'noise', 'affine', 'gradient']\n"
          ]
        }
      ],
      "source": [
        "augument=[\"blur\",\"noise\",\"affine\",\"gradient\"]\n",
        "a=itertools.combinations(augument, 4)\n",
        "\n",
        "for i in list(a): \n",
        "    print(list(i))"
      ]
    },
    {
      "cell_type": "code",
      "source": [
        "imagePaths[0]"
      ],
      "metadata": {
        "colab": {
          "base_uri": "https://localhost:8080/",
          "height": 35
        },
        "id": "cdtmHf-jLb98",
        "outputId": "18907d72-02f0-44c6-c5df-852908df5dcf"
      },
      "execution_count": null,
      "outputs": [
        {
          "output_type": "execute_result",
          "data": {
            "application/vnd.google.colaboratory.intrinsic+json": {
              "type": "string"
            },
            "text/plain": [
              "'/content/data/font_fam/Kunlasatri/1ad5b723_Kunlasatri_16px_italic_bold.png'"
            ]
          },
          "metadata": {},
          "execution_count": 22
        }
      ]
    },
    {
      "cell_type": "code",
      "execution_count": 3,
      "metadata": {
        "id": "PIc22kLf4SAP"
      },
      "outputs": [],
      "source": [
        "counter=0\n",
        "for imagePath in imagePaths[:5000]:\n",
        "    label = imagePath.split(os.path.sep)[-2]\n",
        "    label = conv_label(label)\n",
        "    pil_img = pil_image(imagePath)\n",
        "    #imshow(pil_img)\n",
        "    \n",
        "    # Adding original image\n",
        "    org_img = img_to_array(pil_img)\n",
        "    #print(org_img.shape)\n",
        "    data.append(org_img)\n",
        "    labels.append(label)\n",
        "    \n",
        "    # augument=[\"noise\",\"blur\",\"affine\",\"gradient\"]\n",
        "    # for l in range(0,len(augument)):\n",
        "    \n",
        "    #     a=itertools.combinations(augument, l+1)\n",
        "\n",
        "    #     for i in list(a): \n",
        "    #         combinations=list(i)\n",
        "    #         print(len(combinations))\n",
        "    #         temp_img = pil_img\n",
        "    #         for j in combinations:\n",
        "            \n",
        "    #             if j == 'noise':\n",
        "    #                 # Adding Noise image\n",
        "    #                 temp_img = noise_image(temp_img)\n",
        "                    \n",
        "    #             elif j == 'blur':\n",
        "    #                 # Adding Blur image\n",
        "    #                 temp_img = blur_image(temp_img)\n",
        "    #                 #imshow(blur_img)\n",
        "                    \n",
        "    \n",
        "    #             elif j == 'affine':\n",
        "    #                 open_cv_affine = np.array(pil_img)\n",
        "    #                 # Adding affine rotation image\n",
        "    #                 temp_img = affine_rotation(open_cv_affine)\n",
        "\n",
        "    #             elif j == 'gradient':\n",
        "    #                 open_cv_gradient = np.array(pil_img)\n",
        "    #                 # Adding gradient image\n",
        "    #                 temp_img = gradient_fill(open_cv_gradient)\n",
        "  \n",
        "    #         temp_img = img_to_array(temp_img)\n",
        "    #         data.append(temp_img)\n",
        "    #         labels.append(label)"
      ]
    },
    {
      "cell_type": "code",
      "execution_count": null,
      "metadata": {
        "colab": {
          "base_uri": "https://localhost:8080/"
        },
        "id": "tVOoUUOPbHlY",
        "outputId": "ce8ff329-a536-4e9b-de7c-b7ca46470486"
      },
      "outputs": [
        {
          "output_type": "execute_result",
          "data": {
            "text/plain": [
              "[]"
            ]
          },
          "metadata": {},
          "execution_count": 15
        }
      ],
      "source": [
        "mylist = list(dict.fromkeys(labels))\n",
        "#len(mylist)\n",
        "mylist"
      ]
    },
    {
      "cell_type": "code",
      "execution_count": 2,
      "metadata": {
        "id": "kN65Tp-bwsCg"
      },
      "outputs": [],
      "source": [
        "# data[0].shape"
      ]
    },
    {
      "cell_type": "code",
      "execution_count": null,
      "metadata": {
        "id": "cFpIsgdHndit"
      },
      "outputs": [],
      "source": [
        "data = np.asarray(data, dtype=\"float\") / 255.0\n",
        "labels = np.array(labels)\n",
        "print(\"Success\")\n",
        "# partition the data into training and testing splits using 75% of\n",
        "# the data for training and the remaining 25% for testing\n",
        "(trainX, testX, trainY, testY) = train_test_split(data,labels, test_size=0.25, random_state=42)"
      ]
    },
    {
      "cell_type": "code",
      "execution_count": null,
      "metadata": {
        "colab": {
          "base_uri": "https://localhost:8080/"
        },
        "id": "IeYyy6x7Xho9",
        "outputId": "75de6c35-f2a8-4577-d928-a72f7723f962"
      },
      "outputs": [
        {
          "data": {
            "text/plain": [
              "[8, 9, 4, 2, 7, 5, 6, 0, 1, 3]"
            ]
          },
          "execution_count": 35,
          "metadata": {},
          "output_type": "execute_result"
        }
      ],
      "source": [
        "\n",
        "mylist = list(dict.fromkeys(trainY))\n",
        "#len(mylist)\n",
        "mylist"
      ]
    },
    {
      "cell_type": "code",
      "execution_count": null,
      "metadata": {
        "id": "1NQr6OCQ_3qO"
      },
      "outputs": [],
      "source": [
        "# convert the labels from integers to vectors\n",
        "trainY = to_categorical(trainY, num_classes=10)\n",
        "testY = to_categorical(testY, num_classes=10)"
      ]
    },
    {
      "cell_type": "code",
      "execution_count": null,
      "metadata": {
        "id": "9omeq7fqryGW"
      },
      "outputs": [],
      "source": [
        "aug = ImageDataGenerator(rotation_range=30, width_shift_range=0.1,height_shift_range=0.1, shear_range=0.2, zoom_range=0.2,horizontal_flip=True)"
      ]
    },
    {
      "cell_type": "code",
      "execution_count": null,
      "metadata": {
        "id": "-vWihISP8kHV"
      },
      "outputs": [],
      "source": [
        "#K.set_image_dim_ordering('tf')\n",
        "\n",
        "K.set_image_data_format('channels_last')"
      ]
    },
    {
      "cell_type": "code",
      "execution_count": null,
      "metadata": {
        "id": "Z9K7yD26LE1m"
      },
      "outputs": [],
      "source": [
        "import matplotlib.pyplot as plt\n",
        "import numpy as np\n",
        "import os\n",
        "import PIL\n",
        "import tensorflow as tf\n",
        "from tensorflow import keras\n",
        "from tensorflow.keras import layers\n",
        "from tensorflow.python.keras.layers import Dense, Flatten, Dropout, BatchNormalization\n",
        "from tensorflow.keras.models import Sequential\n",
        "from tensorflow.keras.optimizers import Adam, SGD\n",
        "from keras.callbacks import ModelCheckpoint"
      ]
    },
    {
      "cell_type": "code",
      "execution_count": null,
      "metadata": {
        "id": "DpDdwzQguqWR"
      },
      "outputs": [],
      "source": [
        " def create_model():\n",
        "  new_input = tf.keras.layers.Input(shape=(224, 224, 3))\n",
        "  base_model = tf.keras.applications.MobileNetV2(include_top=False, input_tensor=new_input, weights=\"imagenet\", pooling='avg')\n",
        "\n",
        "  for layer in base_model.layers:\n",
        "\t    layer.trainable = True  \n",
        "  #model = base_model.output\n",
        "  outputs = tf.keras.layers.Dense(10, activation='softmax')(base_model.output)\n",
        "  model = tf.keras.Model(new_input, outputs)\n",
        "\n",
        "  #model.summary()\n",
        "  return model"
      ]
    },
    {
      "cell_type": "code",
      "execution_count": null,
      "metadata": {
        "id": "hYWMcGBMLNjn"
      },
      "outputs": [],
      "source": [
        ""
      ]
    },
    {
      "cell_type": "code",
      "execution_count": null,
      "metadata": {
        "colab": {
          "base_uri": "https://localhost:8080/"
        },
        "id": "LSUkpdoI2J-M",
        "outputId": "2076a4b6-59bd-40d3-8828-6046d34aa099"
      },
      "outputs": [
        {
          "name": "stdout",
          "output_type": "stream",
          "text": [
            "WARNING:tensorflow:`input_shape` is undefined or non-square, or `rows` is not in [96, 128, 160, 192, 224]. Weights for input shape (224, 224) will be loaded as the default.\n"
          ]
        },
        {
          "name": "stderr",
          "output_type": "stream",
          "text": [
            "/usr/local/lib/python3.7/dist-packages/keras/optimizer_v2/gradient_descent.py:102: UserWarning: The `lr` argument is deprecated, use `learning_rate` instead.\n",
            "  super(SGD, self).__init__(name, **kwargs)\n"
          ]
        }
      ],
      "source": [
        "import tensorflow as tf\n",
        "\n",
        "batch_size = 128\n",
        "epochs = 50\n",
        "model= create_model()\n",
        "sgd = tf.keras.optimizers.SGD(lr=0.001, decay=1e-6, momentum=0.9, nesterov=True)\n",
        "#model.compile(loss='mean_squared_error', optimizer=sgd, metrics=['accuracy'])\n",
        "model.compile(loss='categorical_crossentropy', optimizer=sgd, metrics=['accuracy'])"
      ]
    },
    {
      "cell_type": "code",
      "execution_count": null,
      "metadata": {
        "id": "IH8DclwlLkOw"
      },
      "outputs": [],
      "source": [
        "early_stopping=callbacks.EarlyStopping(monitor='val_loss', min_delta=0, patience=10, verbose=0, mode='min')\n",
        "\n",
        "path_s = \"/content/drive/MyDrive/30 อบรม superAI2/31 แข่งขัน/01 font recognition/train_model/\"\n",
        "filepath= path_s + \"top_model_mobile.h5\"\n",
        "\n",
        "checkpoint = callbacks.ModelCheckpoint(filepath, monitor='val_loss', verbose=1, save_best_only=True, mode='min')\n",
        "\n",
        "callbacks_list = [early_stopping,checkpoint]"
      ]
    },
    {
      "cell_type": "code",
      "execution_count": null,
      "metadata": {
        "colab": {
          "background_save": true,
          "base_uri": "https://localhost:8080/"
        },
        "id": "ZfjlSwNt73XO",
        "outputId": "c6e2852d-284f-4c13-a106-884441b3f727"
      },
      "outputs": [
        {
          "name": "stdout",
          "output_type": "stream",
          "text": [
            "Epoch 1/50\n",
            "12/12 [==============================] - ETA: 0s - loss: 2.3719 - accuracy: 0.0907\n",
            "Epoch 00001: val_loss improved from inf to 2.82269, saving model to /content/drive/MyDrive/30 อบรม superAI2/31 แข่งขัน/01 font recognition/train_model/top_model_mobile.h5\n"
          ]
        },
        {
          "name": "stderr",
          "output_type": "stream",
          "text": [
            "/usr/local/lib/python3.7/dist-packages/keras/engine/functional.py:1410: CustomMaskWarning: Custom mask layers require a config and must override get_config. When loading, the custom mask layer must be passed to the custom_objects argument.\n",
            "  layer_config = serialize_layer_fn(layer)\n"
          ]
        },
        {
          "name": "stdout",
          "output_type": "stream",
          "text": [
            "12/12 [==============================] - 26s 1s/step - loss: 2.3719 - accuracy: 0.0907 - val_loss: 2.8227 - val_accuracy: 0.1020\n",
            "Epoch 2/50\n",
            "12/12 [==============================] - ETA: 0s - loss: 2.2968 - accuracy: 0.1160\n",
            "Epoch 00002: val_loss did not improve from 2.82269\n",
            "12/12 [==============================] - 8s 640ms/step - loss: 2.2968 - accuracy: 0.1160 - val_loss: 3.0077 - val_accuracy: 0.1160\n",
            "Epoch 3/50\n",
            "12/12 [==============================] - ETA: 0s - loss: 2.2939 - accuracy: 0.1127\n",
            "Epoch 00003: val_loss did not improve from 2.82269\n",
            "12/12 [==============================] - 8s 634ms/step - loss: 2.2939 - accuracy: 0.1127 - val_loss: 2.9958 - val_accuracy: 0.1160\n",
            "Epoch 4/50\n",
            "12/12 [==============================] - ETA: 0s - loss: 2.2928 - accuracy: 0.1133\n",
            "Epoch 00004: val_loss did not improve from 2.82269\n",
            "12/12 [==============================] - 8s 651ms/step - loss: 2.2928 - accuracy: 0.1133 - val_loss: 2.9891 - val_accuracy: 0.1160\n",
            "Epoch 5/50\n",
            "12/12 [==============================] - ETA: 0s - loss: 2.2973 - accuracy: 0.1107\n",
            "Epoch 00005: val_loss did not improve from 2.82269\n",
            "12/12 [==============================] - 8s 644ms/step - loss: 2.2973 - accuracy: 0.1107 - val_loss: 2.9810 - val_accuracy: 0.1160\n",
            "Epoch 6/50\n",
            "12/12 [==============================] - ETA: 0s - loss: 2.2971 - accuracy: 0.1033\n",
            "Epoch 00006: val_loss did not improve from 2.82269\n",
            "12/12 [==============================] - 8s 641ms/step - loss: 2.2971 - accuracy: 0.1033 - val_loss: 3.0046 - val_accuracy: 0.1160\n",
            "Epoch 7/50\n",
            "12/12 [==============================] - ETA: 0s - loss: 2.2959 - accuracy: 0.1093\n",
            "Epoch 00007: val_loss did not improve from 2.82269\n",
            "12/12 [==============================] - 8s 640ms/step - loss: 2.2959 - accuracy: 0.1093 - val_loss: 3.0517 - val_accuracy: 0.1160\n",
            "Epoch 8/50\n",
            "12/12 [==============================] - ETA: 0s - loss: 2.2971 - accuracy: 0.1000\n",
            "Epoch 00008: val_loss did not improve from 2.82269\n",
            "12/12 [==============================] - 8s 660ms/step - loss: 2.2971 - accuracy: 0.1000 - val_loss: 3.0416 - val_accuracy: 0.1160\n",
            "Epoch 9/50\n",
            "12/12 [==============================] - ETA: 0s - loss: 2.2899 - accuracy: 0.1073\n",
            "Epoch 00009: val_loss did not improve from 2.82269\n",
            "12/12 [==============================] - 8s 636ms/step - loss: 2.2899 - accuracy: 0.1073 - val_loss: 3.0269 - val_accuracy: 0.1160\n",
            "Epoch 10/50\n",
            "12/12 [==============================] - ETA: 0s - loss: 2.2931 - accuracy: 0.1047\n",
            "Epoch 00010: val_loss did not improve from 2.82269\n",
            "12/12 [==============================] - 8s 632ms/step - loss: 2.2931 - accuracy: 0.1047 - val_loss: 3.0302 - val_accuracy: 0.1160\n",
            "Epoch 11/50\n",
            "12/12 [==============================] - ETA: 0s - loss: 2.2895 - accuracy: 0.1253\n",
            "Epoch 00011: val_loss did not improve from 2.82269\n",
            "12/12 [==============================] - 8s 633ms/step - loss: 2.2895 - accuracy: 0.1253 - val_loss: 3.0376 - val_accuracy: 0.1160\n"
          ]
        },
        {
          "data": {
            "text/plain": [
              "<keras.callbacks.History at 0x7f650a2008d0>"
            ]
          },
          "execution_count": null,
          "metadata": {},
          "output_type": "execute_result"
        }
      ],
      "source": [
        "model.fit(trainX, trainY,shuffle=True,\n",
        "          batch_size=batch_size,\n",
        "          epochs=epochs,\n",
        "          verbose=1,\n",
        "          validation_data=(testX, testY),callbacks=callbacks_list)"
      ]
    },
    {
      "cell_type": "code",
      "execution_count": null,
      "metadata": {
        "id": "QLtRqPzhLOUF"
      },
      "outputs": [],
      "source": [
        "score = model.evaluate(testX, testY, verbose=0)\n",
        "print('Test loss:', score[0])\n",
        "print('Test accuracy:', score[1])"
      ]
    },
    {
      "cell_type": "code",
      "execution_count": 1,
      "metadata": {
        "id": "9oDaZS8LuWem"
      },
      "outputs": [],
      "source": [
        "# from keras.models import load_model\n",
        "# model = load_model(path_s + \"top_model.h5\")"
      ]
    },
    {
      "cell_type": "code",
      "execution_count": null,
      "metadata": {
        "colab": {
          "base_uri": "https://localhost:8080/"
        },
        "id": "ltfB09zptlNN",
        "outputId": "28e584f3-2fe7-45d0-e9a5-8cfa6f28ceab"
      },
      "outputs": [
        {
          "name": "stdout",
          "output_type": "stream",
          "text": [
            "Test loss: 0.14993298053741455\n",
            "Test accuracy: 0.6474359035491943\n"
          ]
        }
      ],
      "source": [
        "score = model.evaluate(testX, testY, verbose=0)\n",
        "print('Test loss:', score[0])\n",
        "print('Test accuracy:', score[1])"
      ]
    },
    {
      "cell_type": "code",
      "execution_count": null,
      "metadata": {
        "colab": {
          "base_uri": "https://localhost:8080/"
        },
        "id": "5G-0lG6B64Ls",
        "outputId": "bafec323-9bb9-43a8-fe72-19d10fae30c7"
      },
      "outputs": [
        {
          "name": "stdout",
          "output_type": "stream",
          "text": [
            "/content\n"
          ]
        }
      ],
      "source": [
        "!pwd"
      ]
    },
    {
      "cell_type": "code",
      "execution_count": null,
      "metadata": {
        "id": "ov6w2Kmdv4dV"
      },
      "outputs": [],
      "source": [
        "img_path=\"/content/drive/MyDrive/adobe/sample/sample.jpg\"\n",
        "pil_im =PIL.Image.open(img_path).convert('L')\n",
        "pil_im=blur_image(pil_im)\n",
        "org_img = img_to_array(pil_im)"
      ]
    },
    {
      "cell_type": "code",
      "execution_count": null,
      "metadata": {
        "id": "jN4su5FX3MzC"
      },
      "outputs": [],
      "source": [
        "def rev_conv_label(label):\n",
        "    if label == 0 :\n",
        "        return 'Lato'\n",
        "    elif label == 1:\n",
        "        return 'Raleway'\n",
        "    elif label == 2 :\n",
        "        return 'Roboto'\n",
        "    elif label == 3 :\n",
        "        return 'Sansation'\n",
        "    elif label == 4:\n",
        "        return 'Walkway'"
      ]
    },
    {
      "cell_type": "code",
      "execution_count": null,
      "metadata": {
        "id": "q1yBSPTh0ooD"
      },
      "outputs": [],
      "source": [
        "data=[]\n",
        "data.append(org_img)\n",
        "data = np.asarray(data, dtype=\"float\") / 255.0"
      ]
    },
    {
      "cell_type": "code",
      "execution_count": null,
      "metadata": {
        "id": "JR2YCKaaznhT"
      },
      "outputs": [],
      "source": [
        "# y = model.predict_classes(data)\n",
        "\n",
        "y = model.predict(data)\n",
        "y = np.round(y).astype(int)"
      ]
    },
    {
      "cell_type": "code",
      "execution_count": null,
      "metadata": {
        "colab": {
          "base_uri": "https://localhost:8080/"
        },
        "id": "LfFbEl5y_Yes",
        "outputId": "66243b19-ee96-442d-e431-5a4b113efa70"
      },
      "outputs": [
        {
          "data": {
            "text/plain": [
              "array([0, 0, 0, 0, 0])"
            ]
          },
          "execution_count": 61,
          "metadata": {},
          "output_type": "execute_result"
        }
      ],
      "source": [
        "y[0]"
      ]
    },
    {
      "cell_type": "code",
      "execution_count": null,
      "metadata": {
        "colab": {
          "base_uri": "https://localhost:8080/",
          "height": 268
        },
        "id": "SQjS-Iv80iLc",
        "outputId": "b1a8cb7d-bb4f-4471-c2ec-d75ac0c3ec18"
      },
      "outputs": [
        {
          "data": {
            "image/png": "[encoded data removed]",
            "text/plain": [
              "<Figure size 432x288 with 1 Axes>"
            ]
          },
          "metadata": {},
          "output_type": "display_data"
        }
      ],
      "source": [
        "label = rev_conv_label(y[0,0])\n",
        "fig, ax = plt.subplots(1)\n",
        "ax.imshow(pil_im, interpolation='nearest', cmap=cm.gray)\n",
        "ax.text(5, 5, label , bbox={'facecolor': 'white', 'pad': 10})\n",
        "plt.show()"
      ]
    },
    {
      "cell_type": "code",
      "execution_count": null,
      "metadata": {
        "id": "e_AiRDtA7qG5"
      },
      "outputs": [],
      "source": [
        ""
      ]
    }
  ],
  "metadata": {
    "accelerator": "GPU",
    "colab": {
      "collapsed_sections": [],
      "name": "Font_RecDeepFont_mobileNet (1).ipynb",
      "provenance": []
    },
    "kernelspec": {
      "display_name": "Python 3",
      "name": "python3"
    },
    "language_info": {
      "name": "python"
    }
  },
  "nbformat": 4,
  "nbformat_minor": 0
}